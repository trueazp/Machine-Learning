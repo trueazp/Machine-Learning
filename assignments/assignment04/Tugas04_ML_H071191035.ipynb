{
  "nbformat": 4,
  "nbformat_minor": 0,
  "metadata": {
    "colab": {
      "name": "Tugas04-ML-H071191035.ipynb",
      "provenance": [],
      "collapsed_sections": [
        "GOMNFV_tx2uB"
      ]
    },
    "kernelspec": {
      "name": "python3",
      "display_name": "Python 3"
    },
    "language_info": {
      "name": "python"
    }
  },
  "cells": [
    {
      "cell_type": "markdown",
      "metadata": {
        "id": "TDYj_GcbeO5M"
      },
      "source": [
        "# **Classification 2: Naive Bayesian & Bayesian Network**"
      ]
    },
    {
      "cell_type": "markdown",
      "metadata": {
        "id": "UJUMQSJrlEKz"
      },
      "source": [
        "# **Naive Bayesian**"
      ]
    },
    {
      "cell_type": "markdown",
      "metadata": {
        "id": "_VwmFrV6grsF"
      },
      "source": [
        "## **1. Naive Bayes Algorithm**\n",
        "\n",
        "### **Algoritma Naive Bayes adalah sekumpulan algoritma pengklasifikasian dalam Supervised Machine Learning yang berdasarkan teorema probabilitas Bayes. Algoritma Naive Bayes mengasumsikan bahwa tidak ada korelasi antara fitur dalam dataset yang digunakan untuk melatih model.**\n",
        "\n",
        "### **Pengklasifikasian Naive Bayes bekerja sangat baik dalam banyak masalah dunia nyata yang kompleks. Keuntungan besar dari pengklasifikasian Naive Bayes adalah ia hanya memerlukan sejumlah kecil sampel data pelatihan untuk melakukan klasifikasi secara efisien, dibandingkan dengan algoritme lain seperti Logistic Regression, Decision Trees, dan Support Vector Machines.**\n",
        "---\n",
        "### **Berikut beberapa istilah terkait dengan Naive Bayesian:**\n",
        "\n",
        "## **Teorema Bayes**\n",
        "### **Yaitu teorema yang menggambarkan probabilitas fitur, berdasarkan pengetahuan sebelumnya tentang situasi yang terkait dengan fitur itu. Misalnya, jika probabilitas seseorang menderita diabetes dikaitkan dengan usianya, maka dengan menggunakan teorema Bayes, usia dapat digunakan untuk memprediksi probabilitas diabetes secara lebih akurat.**\n",
        "---\n",
        "## **Naive**\n",
        "### **Kata naif menyiratkan bahwa setiap pasangan fitur dalam kumpulan data independen satu sama lain. Semua pengklasifikasi Naive Bayes bekerja dengan asumsi bahwa nilai fitur tertentu tidak tergantung pada nilai fitur lain untuk kelas tertentu. Misalnya, buah dapat diklasifikasikan sebagai jeruk jika bulat, berdiameter sekitar 8 cm, dan berwarna oranye. Dengan pengklasifikasian Naive Bayes, masing-masing dari tiga fitur ini (bentuk, ukuran, dan warna) berkontribusi secara independen terhadap kemungkinan bahwa buah ini adalah jeruk. Selain itu, diasumsikan bahwa tidak ada kemungkinan korelasi antara atribut bentuk, ukuran, dan warna.**"
      ]
    },
    {
      "cell_type": "markdown",
      "metadata": {
        "id": "Q4lVlgz3gr0_"
      },
      "source": [
        "## **2. Cara Kerja Naive Bayesian**"
      ]
    },
    {
      "cell_type": "markdown",
      "metadata": {
        "id": "ofY4C-Zu0P6L"
      },
      "source": [
        "## **2.1. Workflow**\n",
        "\n",
        "### **Setiap kali kita melakukan klasifikasi, langkah pertama adalah memahami masalah dan mengidentifikasi fitur dan label. Fitur adalah karakteristik atau atribut yang mempengaruhi hasil label. Misalnya, dalam hal penyaluran pinjaman, manajer bank mengidentifikasi pekerjaan nasabah, pendapatan, usia, lokasi, riwayat pinjaman sebelumnya, riwayat transaksi, dan nilai kredit. Karakteristik ini dikenal sebagai fitur yang membantu model mengklasifikasikan pelanggan.**\n",
        "\n",
        "### **Klasifikasi ini memiliki dua fase, fase pembelajaran, dan fase evaluasi. Pada fase pembelajaran, classifier melatih modelnya pada dataset yang diberikan dan pada fase evaluasi, menguji kinerja classifier. Kinerja dievaluasi berdasarkan berbagai parameter seperti akurasi, kesalahan, presisi, dan ingatan.**\n",
        "\n",
        "<img src='https://drive.google.com/uc?id=13b69rk4znQ8lHN86G0bM_ue6pKs_1eea'>"
      ]
    },
    {
      "cell_type": "markdown",
      "metadata": {
        "id": "w3TCE5Z4k9gl"
      },
      "source": [
        "## **3. Implementasi Naive Bayesian**"
      ]
    },
    {
      "cell_type": "markdown",
      "metadata": {
        "id": "G6I-BNshlKck"
      },
      "source": [
        "## **3.1. Import Library**"
      ]
    },
    {
      "cell_type": "code",
      "metadata": {
        "id": "Po9WzC2Ek9oz"
      },
      "source": [
        "import os\n",
        "import numpy as np\n",
        "import pandas as pd\n",
        "import seaborn as sns\n",
        "import matplotlib.pyplot as plt\n",
        "from sklearn.naive_bayes import GaussianNB\n",
        "from sklearn.metrics import accuracy_score\n",
        "from sklearn.model_selection import train_test_split"
      ],
      "execution_count": 121,
      "outputs": []
    },
    {
      "cell_type": "markdown",
      "metadata": {
        "id": "5R_JquIomBUm"
      },
      "source": [
        "## **3.2. Import Dataset**\n",
        "\n",
        "### **Sumber Dataset: https://www.kaggle.com/mathchi/diabetes-data-set**"
      ]
    },
    {
      "cell_type": "code",
      "metadata": {
        "id": "gJq5p1r6mBaZ"
      },
      "source": [
        "os.environ['KAGGLE_USERNAME'] = \"akmalzuhdyprasetya\"\n",
        "os.environ['KAGGLE_KEY'] = \"3f1fd1ffa5d36294293dfb098b3b7392\""
      ],
      "execution_count": 122,
      "outputs": []
    },
    {
      "cell_type": "code",
      "metadata": {
        "colab": {
          "base_uri": "https://localhost:8080/"
        },
        "id": "YPuTg70Gnkd-",
        "outputId": "6178a9f4-c0ef-40a4-89d3-257354d5e53e"
      },
      "source": [
        "!kaggle datasets download -d mathchi/diabetes-data-set"
      ],
      "execution_count": 123,
      "outputs": [
        {
          "output_type": "stream",
          "name": "stdout",
          "text": [
            "diabetes-data-set.zip: Skipping, found more recently modified local copy (use --force to force download)\n"
          ]
        }
      ]
    },
    {
      "cell_type": "code",
      "metadata": {
        "colab": {
          "base_uri": "https://localhost:8080/"
        },
        "id": "K_V4ioTEnnjh",
        "outputId": "ed5360e7-df98-48e1-c586-0be0cf7d7970"
      },
      "source": [
        "!unzip -q /content/diabetes-data-set.zip"
      ],
      "execution_count": 124,
      "outputs": [
        {
          "output_type": "stream",
          "name": "stdout",
          "text": [
            "replace diabetes.csv? [y]es, [n]o, [A]ll, [N]one, [r]ename: "
          ]
        }
      ]
    },
    {
      "cell_type": "code",
      "metadata": {
        "colab": {
          "base_uri": "https://localhost:8080/",
          "height": 206
        },
        "id": "72WA6qusnpg9",
        "outputId": "7a75e30e-e9ed-407b-d9c9-b3d52b405305"
      },
      "source": [
        "data = pd.read_csv(\"/content/diabetes.csv\")\n",
        "data.head(5)"
      ],
      "execution_count": 125,
      "outputs": [
        {
          "output_type": "execute_result",
          "data": {
            "text/html": [
              "<div>\n",
              "<style scoped>\n",
              "    .dataframe tbody tr th:only-of-type {\n",
              "        vertical-align: middle;\n",
              "    }\n",
              "\n",
              "    .dataframe tbody tr th {\n",
              "        vertical-align: top;\n",
              "    }\n",
              "\n",
              "    .dataframe thead th {\n",
              "        text-align: right;\n",
              "    }\n",
              "</style>\n",
              "<table border=\"1\" class=\"dataframe\">\n",
              "  <thead>\n",
              "    <tr style=\"text-align: right;\">\n",
              "      <th></th>\n",
              "      <th>Pregnancies</th>\n",
              "      <th>Glucose</th>\n",
              "      <th>BloodPressure</th>\n",
              "      <th>SkinThickness</th>\n",
              "      <th>Insulin</th>\n",
              "      <th>BMI</th>\n",
              "      <th>DiabetesPedigreeFunction</th>\n",
              "      <th>Age</th>\n",
              "      <th>Outcome</th>\n",
              "    </tr>\n",
              "  </thead>\n",
              "  <tbody>\n",
              "    <tr>\n",
              "      <th>0</th>\n",
              "      <td>6</td>\n",
              "      <td>148</td>\n",
              "      <td>72</td>\n",
              "      <td>35</td>\n",
              "      <td>0</td>\n",
              "      <td>33.6</td>\n",
              "      <td>0.627</td>\n",
              "      <td>50</td>\n",
              "      <td>1</td>\n",
              "    </tr>\n",
              "    <tr>\n",
              "      <th>1</th>\n",
              "      <td>1</td>\n",
              "      <td>85</td>\n",
              "      <td>66</td>\n",
              "      <td>29</td>\n",
              "      <td>0</td>\n",
              "      <td>26.6</td>\n",
              "      <td>0.351</td>\n",
              "      <td>31</td>\n",
              "      <td>0</td>\n",
              "    </tr>\n",
              "    <tr>\n",
              "      <th>2</th>\n",
              "      <td>8</td>\n",
              "      <td>183</td>\n",
              "      <td>64</td>\n",
              "      <td>0</td>\n",
              "      <td>0</td>\n",
              "      <td>23.3</td>\n",
              "      <td>0.672</td>\n",
              "      <td>32</td>\n",
              "      <td>1</td>\n",
              "    </tr>\n",
              "    <tr>\n",
              "      <th>3</th>\n",
              "      <td>1</td>\n",
              "      <td>89</td>\n",
              "      <td>66</td>\n",
              "      <td>23</td>\n",
              "      <td>94</td>\n",
              "      <td>28.1</td>\n",
              "      <td>0.167</td>\n",
              "      <td>21</td>\n",
              "      <td>0</td>\n",
              "    </tr>\n",
              "    <tr>\n",
              "      <th>4</th>\n",
              "      <td>0</td>\n",
              "      <td>137</td>\n",
              "      <td>40</td>\n",
              "      <td>35</td>\n",
              "      <td>168</td>\n",
              "      <td>43.1</td>\n",
              "      <td>2.288</td>\n",
              "      <td>33</td>\n",
              "      <td>1</td>\n",
              "    </tr>\n",
              "  </tbody>\n",
              "</table>\n",
              "</div>"
            ],
            "text/plain": [
              "   Pregnancies  Glucose  BloodPressure  ...  DiabetesPedigreeFunction  Age  Outcome\n",
              "0            6      148             72  ...                     0.627   50        1\n",
              "1            1       85             66  ...                     0.351   31        0\n",
              "2            8      183             64  ...                     0.672   32        1\n",
              "3            1       89             66  ...                     0.167   21        0\n",
              "4            0      137             40  ...                     2.288   33        1\n",
              "\n",
              "[5 rows x 9 columns]"
            ]
          },
          "metadata": {},
          "execution_count": 125
        }
      ]
    },
    {
      "cell_type": "markdown",
      "metadata": {
        "id": "wQBDilfyoIZq"
      },
      "source": [
        "## **3.3. Data Pre-processing**\n",
        "\n",
        "### **Sebelum memasukkan data ke model classifier Naive Bayes, kita perlu melakukan beberapa pra-pemrosesan.**\n",
        "\n",
        "### **Di sini, kita akan membuat variabel `x` dan `y` dengan mengambilnya dari dataset dan menggunakan method `.train_test_split()` dari `scikit-learn` untuk membagi data menjadi dataset untuk pelatihan dan pengujian.**\n",
        "\n",
        "### **Perlu diperhatikan bahwa ukuran pengujian 0,25 menunjukkan bahwa kita telah menggunakan 25% data untuk pengujian, parameter `random_state` memastikan tingkat reproduktifitas. Untuk output `.train_test_split()`, kita mendapatkan nilai `x_train`, `x_test`, `y_train`, dan `y_test`.**"
      ]
    },
    {
      "cell_type": "code",
      "metadata": {
        "id": "K8RcEOaKoIev"
      },
      "source": [
        "x = data.drop('Outcome', axis=1)\n",
        "y = data['Outcome']\n",
        "x_train, x_test, y_train, y_test = train_test_split(x, y, test_size=0.50, \n",
        "                                                    random_state=42)"
      ],
      "execution_count": 126,
      "outputs": []
    },
    {
      "cell_type": "code",
      "metadata": {
        "colab": {
          "base_uri": "https://localhost:8080/"
        },
        "id": "44e2sSN5q6sj",
        "outputId": "bf719f1d-312e-40c1-ed96-576dc316e188"
      },
      "source": [
        "x_train, x_test"
      ],
      "execution_count": 127,
      "outputs": [
        {
          "output_type": "execute_result",
          "data": {
            "text/plain": [
              "(     Pregnancies  Glucose  BloodPressure  ...   BMI  DiabetesPedigreeFunction  Age\n",
              " 727            0      141             84  ...  32.4                     0.433   22\n",
              " 423            2      115             64  ...  30.8                     0.421   21\n",
              " 179            5      130             82  ...  39.1                     0.956   37\n",
              " 304            3      150             76  ...  21.0                     0.207   37\n",
              " 398            3       82             70  ...  21.1                     0.389   25\n",
              " ..           ...      ...            ...  ...   ...                       ...  ...\n",
              " 71             5      139             64  ...  28.6                     0.411   26\n",
              " 106            1       96            122  ...  22.4                     0.207   27\n",
              " 270           10      101             86  ...  45.6                     1.136   38\n",
              " 435            0      141              0  ...  42.4                     0.205   29\n",
              " 102            0      125             96  ...  22.5                     0.262   21\n",
              " \n",
              " [384 rows x 8 columns],\n",
              "      Pregnancies  Glucose  BloodPressure  ...   BMI  DiabetesPedigreeFunction  Age\n",
              " 668            6       98             58  ...  34.0                     0.430   43\n",
              " 324            2      112             75  ...  35.7                     0.148   21\n",
              " 624            2      108             64  ...  30.8                     0.158   21\n",
              " 690            8      107             80  ...  24.6                     0.856   34\n",
              " 473            7      136             90  ...  29.9                     0.210   50\n",
              " ..           ...      ...            ...  ...   ...                       ...  ...\n",
              " 578           10      133             68  ...  27.0                     0.245   36\n",
              " 664            6      115             60  ...  33.7                     0.245   40\n",
              " 100            1      163             72  ...  39.0                     1.222   33\n",
              " 445            0      180             78  ...  59.4                     2.420   25\n",
              " 689            1      144             82  ...  46.1                     0.335   46\n",
              " \n",
              " [384 rows x 8 columns])"
            ]
          },
          "metadata": {},
          "execution_count": 127
        }
      ]
    },
    {
      "cell_type": "code",
      "metadata": {
        "colab": {
          "base_uri": "https://localhost:8080/"
        },
        "id": "8X5Ds7Ewq-wZ",
        "outputId": "286e529e-cca9-4127-e90a-6abc32cf3d29"
      },
      "source": [
        "y_train, y_test"
      ],
      "execution_count": 128,
      "outputs": [
        {
          "output_type": "execute_result",
          "data": {
            "text/plain": [
              "(727    0\n",
              " 423    0\n",
              " 179    1\n",
              " 304    0\n",
              " 398    0\n",
              "       ..\n",
              " 71     0\n",
              " 106    0\n",
              " 270    1\n",
              " 435    1\n",
              " 102    0\n",
              " Name: Outcome, Length: 384, dtype: int64, 668    0\n",
              " 324    0\n",
              " 624    0\n",
              " 690    0\n",
              " 473    0\n",
              "       ..\n",
              " 578    0\n",
              " 664    1\n",
              " 100    1\n",
              " 445    1\n",
              " 689    1\n",
              " Name: Outcome, Length: 384, dtype: int64)"
            ]
          },
          "metadata": {},
          "execution_count": 128
        }
      ]
    },
    {
      "cell_type": "markdown",
      "metadata": {
        "id": "FZ0JlVUPsabG"
      },
      "source": [
        "## **3.4. Model Training**\n",
        "\n",
        "### **Kita akan menggunakan `x_train` dan `y_train` yang telah diperoleh, untuk melatih model classifier Naive Bayes. Kita akan menggunakan method `.fit()` dan memberikan parameter seperti yang ditunjukkan di bawah ini.**\n",
        "\n",
        "### **Perhatikan bahwa output dari sel ini menjelaskan beberapa parameter seperti `prior` dan `var_smoothing` untuk model. Semua parameter ini dapat dikonfigurasi, dan kita bebas menyetelnya agar sesuai dengan kebutuhan kita.**"
      ]
    },
    {
      "cell_type": "code",
      "metadata": {
        "colab": {
          "base_uri": "https://localhost:8080/"
        },
        "id": "DMjGH33fsagU",
        "outputId": "8fd6927c-8490-4939-fe2c-58f2a379703c"
      },
      "source": [
        "model = GaussianNB()\n",
        "model.fit(x_train, y_train)"
      ],
      "execution_count": 129,
      "outputs": [
        {
          "output_type": "execute_result",
          "data": {
            "text/plain": [
              "GaussianNB(priors=None, var_smoothing=1e-09)"
            ]
          },
          "metadata": {},
          "execution_count": 129
        }
      ]
    },
    {
      "cell_type": "markdown",
      "metadata": {
        "id": "haIenLCOvZSW"
      },
      "source": [
        "## **3.5. Prediction**\n",
        "\n",
        "### **Setelah model dilatih, model siap untuk membuat atau melakukan prediksi. Kita dapat menggunakan method `.predict()` pada model dan memberikan `x_test` sebagai parameter untuk mendapatkan output yaitu `y_pred`.**"
      ]
    },
    {
      "cell_type": "code",
      "metadata": {
        "id": "RFIIyhK-vZXr"
      },
      "source": [
        "y_pred = model.predict(x_test)"
      ],
      "execution_count": 130,
      "outputs": []
    },
    {
      "cell_type": "code",
      "metadata": {
        "colab": {
          "base_uri": "https://localhost:8080/"
        },
        "id": "z7ArypJVv-iE",
        "outputId": "03fb73e8-fa60-426a-89a9-0decdfb84ae2"
      },
      "source": [
        "y_pred, x_test"
      ],
      "execution_count": 131,
      "outputs": [
        {
          "output_type": "execute_result",
          "data": {
            "text/plain": [
              "(array([0, 0, 0, 0, 0, 1, 0, 0, 0, 1, 0, 1, 1, 0, 0, 0, 0, 0, 0, 0, 0, 0,\n",
              "        1, 0, 1, 1, 0, 0, 0, 0, 1, 1, 1, 0, 1, 1, 1, 0, 1, 0, 0, 0, 0, 1,\n",
              "        0, 1, 1, 0, 0, 1, 0, 1, 1, 0, 0, 0, 1, 0, 0, 1, 1, 0, 1, 1, 0, 1,\n",
              "        0, 1, 0, 1, 1, 0, 0, 0, 0, 0, 0, 0, 0, 0, 1, 0, 0, 0, 0, 1, 1, 0,\n",
              "        0, 0, 0, 0, 0, 0, 0, 1, 0, 0, 1, 0, 1, 0, 1, 1, 1, 0, 0, 1, 0, 1,\n",
              "        0, 0, 0, 1, 0, 0, 1, 0, 0, 0, 0, 0, 0, 0, 0, 1, 0, 1, 1, 1, 1, 1,\n",
              "        0, 1, 1, 0, 0, 1, 1, 0, 0, 0, 0, 1, 0, 0, 0, 0, 0, 1, 0, 0, 1, 0,\n",
              "        0, 1, 0, 0, 1, 0, 0, 1, 0, 0, 0, 1, 0, 0, 1, 1, 0, 0, 0, 1, 1, 0,\n",
              "        0, 1, 0, 0, 1, 1, 0, 1, 1, 0, 0, 0, 1, 1, 0, 0, 1, 1, 0, 0, 0, 0,\n",
              "        0, 1, 0, 0, 0, 1, 1, 0, 0, 0, 1, 1, 0, 0, 0, 0, 1, 0, 1, 0, 0, 1,\n",
              "        1, 0, 0, 0, 0, 0, 0, 0, 1, 0, 0, 0, 1, 1, 0, 0, 1, 0, 0, 0, 0, 0,\n",
              "        0, 0, 0, 0, 1, 0, 0, 0, 0, 0, 1, 0, 0, 1, 0, 0, 0, 0, 1, 1, 0, 0,\n",
              "        0, 0, 1, 0, 0, 0, 0, 0, 1, 0, 0, 0, 0, 1, 0, 0, 1, 1, 1, 1, 0, 0,\n",
              "        1, 0, 0, 1, 0, 1, 1, 0, 1, 0, 0, 1, 0, 0, 0, 1, 1, 0, 0, 0, 0, 0,\n",
              "        0, 0, 0, 1, 1, 0, 0, 0, 1, 0, 0, 0, 0, 0, 1, 0, 0, 0, 0, 0, 1, 0,\n",
              "        0, 0, 0, 1, 0, 0, 1, 1, 0, 0, 0, 0, 0, 1, 1, 1, 0, 0, 0, 0, 0, 0,\n",
              "        1, 1, 0, 0, 1, 0, 0, 1, 0, 1, 1, 0, 0, 0, 0, 0, 0, 0, 1, 0, 1, 0,\n",
              "        1, 0, 1, 0, 0, 0, 0, 1, 1, 1]),\n",
              "      Pregnancies  Glucose  BloodPressure  ...   BMI  DiabetesPedigreeFunction  Age\n",
              " 668            6       98             58  ...  34.0                     0.430   43\n",
              " 324            2      112             75  ...  35.7                     0.148   21\n",
              " 624            2      108             64  ...  30.8                     0.158   21\n",
              " 690            8      107             80  ...  24.6                     0.856   34\n",
              " 473            7      136             90  ...  29.9                     0.210   50\n",
              " ..           ...      ...            ...  ...   ...                       ...  ...\n",
              " 578           10      133             68  ...  27.0                     0.245   36\n",
              " 664            6      115             60  ...  33.7                     0.245   40\n",
              " 100            1      163             72  ...  39.0                     1.222   33\n",
              " 445            0      180             78  ...  59.4                     2.420   25\n",
              " 689            1      144             82  ...  46.1                     0.335   46\n",
              " \n",
              " [384 rows x 8 columns])"
            ]
          },
          "metadata": {},
          "execution_count": 131
        }
      ]
    },
    {
      "cell_type": "code",
      "metadata": {
        "colab": {
          "base_uri": "https://localhost:8080/"
        },
        "id": "6oZy4TimwJ6R",
        "outputId": "7de04062-7383-438d-b062-80eb800a0350"
      },
      "source": [
        "x_test.iloc[10]"
      ],
      "execution_count": 132,
      "outputs": [
        {
          "output_type": "execute_result",
          "data": {
            "text/plain": [
              "Pregnancies                  10.000\n",
              "Glucose                     111.000\n",
              "BloodPressure                70.000\n",
              "SkinThickness                27.000\n",
              "Insulin                       0.000\n",
              "BMI                          27.500\n",
              "DiabetesPedigreeFunction      0.141\n",
              "Age                          40.000\n",
              "Name: 667, dtype: float64"
            ]
          },
          "metadata": {},
          "execution_count": 132
        }
      ]
    },
    {
      "cell_type": "code",
      "metadata": {
        "colab": {
          "base_uri": "https://localhost:8080/"
        },
        "id": "d5SRi7Flwgfe",
        "outputId": "b8a782de-ad66-431c-bcf6-f3e20143a215"
      },
      "source": [
        "y_pred[10]"
      ],
      "execution_count": 133,
      "outputs": [
        {
          "output_type": "execute_result",
          "data": {
            "text/plain": [
              "0"
            ]
          },
          "metadata": {},
          "execution_count": 133
        }
      ]
    },
    {
      "cell_type": "markdown",
      "metadata": {
        "id": "SPKruSlSw76i"
      },
      "source": [
        "## **3.5. Model Evaluation**\n",
        "\n",
        "### **Terakhir, kita perlu memeriksa untuk melihat seberapa baik kinerja model kita pada data uji. Untuk ini, kita mengevaluasi model kami dengan menemukan skor akurasi yang dihasilkan oleh model.**"
      ]
    },
    {
      "cell_type": "code",
      "metadata": {
        "id": "zZR_27Ldw8Aq"
      },
      "source": [
        "acc = accuracy_score(y_test, y_pred)*100"
      ],
      "execution_count": 134,
      "outputs": []
    },
    {
      "cell_type": "code",
      "metadata": {
        "colab": {
          "base_uri": "https://localhost:8080/"
        },
        "id": "ND3HPYFKxQy3",
        "outputId": "dde77728-c7b8-42c7-e248-bacb23936226"
      },
      "source": [
        "print('Model Accuracy', acc, sep=': ')"
      ],
      "execution_count": 135,
      "outputs": [
        {
          "output_type": "stream",
          "name": "stdout",
          "text": [
            "Model Accuracy: 76.30208333333334\n"
          ]
        }
      ]
    },
    {
      "cell_type": "markdown",
      "metadata": {
        "id": "GOMNFV_tx2uB"
      },
      "source": [
        "# **Bayesian Network**"
      ]
    },
    {
      "cell_type": "code",
      "metadata": {
        "id": "5FEC7fQFx95I"
      },
      "source": [
        ""
      ],
      "execution_count": 135,
      "outputs": []
    }
  ]
}