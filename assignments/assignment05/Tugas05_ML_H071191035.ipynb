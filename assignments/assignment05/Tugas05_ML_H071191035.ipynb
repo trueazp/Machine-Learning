{
  "nbformat": 4,
  "nbformat_minor": 0,
  "metadata": {
    "colab": {
      "name": "Tugas05-ML-H071191035.ipynb",
      "provenance": [],
      "collapsed_sections": []
    },
    "kernelspec": {
      "name": "python3",
      "display_name": "Python 3"
    },
    "language_info": {
      "name": "python"
    }
  },
  "cells": [
    {
      "cell_type": "markdown",
      "metadata": {
        "id": "DL_5A9pTE5Q2"
      },
      "source": [
        "# **Support Vector Machine**"
      ]
    },
    {
      "cell_type": "markdown",
      "metadata": {
        "id": "cb6c6W5eE54U"
      },
      "source": [
        "## **1. Import Library & Dataset**\n",
        "\n",
        "### **Sumber Dataset: https://www.kaggle.com/brsdincer/star-type-classification**"
      ]
    },
    {
      "cell_type": "code",
      "metadata": {
        "id": "0Aq5jw_REt7N"
      },
      "source": [
        "import os\n",
        "import numpy as np \n",
        "import pandas as pd \n",
        "import seaborn as sns\n",
        "import matplotlib.pyplot as plt\n",
        "from sklearn.model_selection import train_test_split"
      ],
      "execution_count": 140,
      "outputs": []
    },
    {
      "cell_type": "code",
      "metadata": {
        "id": "d4ZCzg50FWnq"
      },
      "source": [
        "os.environ['KAGGLE_USERNAME'] = \"akmalzuhdyprasetya\"\n",
        "os.environ['KAGGLE_KEY'] = \"3f1fd1ffa5d36294293dfb098b3b7392\""
      ],
      "execution_count": 141,
      "outputs": []
    },
    {
      "cell_type": "code",
      "metadata": {
        "colab": {
          "base_uri": "https://localhost:8080/"
        },
        "id": "9eTQfGsIFdM2",
        "outputId": "4b34a11b-8bb4-446b-baa6-2c707f3437f7"
      },
      "source": [
        "!kaggle datasets download -d brsdincer/star-type-classification"
      ],
      "execution_count": 142,
      "outputs": [
        {
          "output_type": "stream",
          "name": "stdout",
          "text": [
            "star-type-classification.zip: Skipping, found more recently modified local copy (use --force to force download)\n"
          ]
        }
      ]
    },
    {
      "cell_type": "code",
      "metadata": {
        "colab": {
          "base_uri": "https://localhost:8080/"
        },
        "id": "E8Ay2g5xFexg",
        "outputId": "1ba85497-46c9-40eb-8009-4f0e54c0cdc6"
      },
      "source": [
        "!unzip -q /content/star-type-classification.zip"
      ],
      "execution_count": 143,
      "outputs": [
        {
          "output_type": "stream",
          "name": "stdout",
          "text": [
            "replace Stars.csv? [y]es, [n]o, [A]ll, [N]one, [r]ename: "
          ]
        }
      ]
    },
    {
      "cell_type": "code",
      "metadata": {
        "colab": {
          "base_uri": "https://localhost:8080/",
          "height": 206
        },
        "id": "P4dKEROhFiVe",
        "outputId": "9fc43bb1-cd44-4d0c-ba9b-dfd0dcf0cda6"
      },
      "source": [
        "data = pd.read_csv(\"/content/Stars.csv\")\n",
        "data.head()"
      ],
      "execution_count": 144,
      "outputs": [
        {
          "output_type": "execute_result",
          "data": {
            "text/html": [
              "<div>\n",
              "<style scoped>\n",
              "    .dataframe tbody tr th:only-of-type {\n",
              "        vertical-align: middle;\n",
              "    }\n",
              "\n",
              "    .dataframe tbody tr th {\n",
              "        vertical-align: top;\n",
              "    }\n",
              "\n",
              "    .dataframe thead th {\n",
              "        text-align: right;\n",
              "    }\n",
              "</style>\n",
              "<table border=\"1\" class=\"dataframe\">\n",
              "  <thead>\n",
              "    <tr style=\"text-align: right;\">\n",
              "      <th></th>\n",
              "      <th>Temperature</th>\n",
              "      <th>L</th>\n",
              "      <th>R</th>\n",
              "      <th>A_M</th>\n",
              "      <th>Color</th>\n",
              "      <th>Spectral_Class</th>\n",
              "      <th>Type</th>\n",
              "    </tr>\n",
              "  </thead>\n",
              "  <tbody>\n",
              "    <tr>\n",
              "      <th>0</th>\n",
              "      <td>3068</td>\n",
              "      <td>0.002400</td>\n",
              "      <td>0.1700</td>\n",
              "      <td>16.12</td>\n",
              "      <td>Red</td>\n",
              "      <td>M</td>\n",
              "      <td>0</td>\n",
              "    </tr>\n",
              "    <tr>\n",
              "      <th>1</th>\n",
              "      <td>3042</td>\n",
              "      <td>0.000500</td>\n",
              "      <td>0.1542</td>\n",
              "      <td>16.60</td>\n",
              "      <td>Red</td>\n",
              "      <td>M</td>\n",
              "      <td>0</td>\n",
              "    </tr>\n",
              "    <tr>\n",
              "      <th>2</th>\n",
              "      <td>2600</td>\n",
              "      <td>0.000300</td>\n",
              "      <td>0.1020</td>\n",
              "      <td>18.70</td>\n",
              "      <td>Red</td>\n",
              "      <td>M</td>\n",
              "      <td>0</td>\n",
              "    </tr>\n",
              "    <tr>\n",
              "      <th>3</th>\n",
              "      <td>2800</td>\n",
              "      <td>0.000200</td>\n",
              "      <td>0.1600</td>\n",
              "      <td>16.65</td>\n",
              "      <td>Red</td>\n",
              "      <td>M</td>\n",
              "      <td>0</td>\n",
              "    </tr>\n",
              "    <tr>\n",
              "      <th>4</th>\n",
              "      <td>1939</td>\n",
              "      <td>0.000138</td>\n",
              "      <td>0.1030</td>\n",
              "      <td>20.06</td>\n",
              "      <td>Red</td>\n",
              "      <td>M</td>\n",
              "      <td>0</td>\n",
              "    </tr>\n",
              "  </tbody>\n",
              "</table>\n",
              "</div>"
            ],
            "text/plain": [
              "   Temperature         L       R    A_M Color Spectral_Class  Type\n",
              "0         3068  0.002400  0.1700  16.12   Red              M     0\n",
              "1         3042  0.000500  0.1542  16.60   Red              M     0\n",
              "2         2600  0.000300  0.1020  18.70   Red              M     0\n",
              "3         2800  0.000200  0.1600  16.65   Red              M     0\n",
              "4         1939  0.000138  0.1030  20.06   Red              M     0"
            ]
          },
          "metadata": {},
          "execution_count": 144
        }
      ]
    },
    {
      "cell_type": "code",
      "metadata": {
        "colab": {
          "base_uri": "https://localhost:8080/"
        },
        "id": "fHI8nrGAFj1M",
        "outputId": "53abde39-c96c-42eb-cdf7-bea2b1bd8d19"
      },
      "source": [
        "data.shape"
      ],
      "execution_count": 145,
      "outputs": [
        {
          "output_type": "execute_result",
          "data": {
            "text/plain": [
              "(240, 7)"
            ]
          },
          "metadata": {},
          "execution_count": 145
        }
      ]
    },
    {
      "cell_type": "code",
      "metadata": {
        "id": "jr9-AJr1lKqA",
        "colab": {
          "base_uri": "https://localhost:8080/",
          "height": 314
        },
        "outputId": "dbb0a55d-bdf8-4569-89c0-8c8aea11543f"
      },
      "source": [
        "data.plot(kind='scatter', x ='A_M', y='Spectral_Class', alpha=0.5, color='red')\n",
        "plt.xlabel('A_M')\n",
        "plt.ylabel('Spectral_class')\n",
        "plt.title('A_M-Spectral_Class Plot')"
      ],
      "execution_count": 146,
      "outputs": [
        {
          "output_type": "execute_result",
          "data": {
            "text/plain": [
              "Text(0.5, 1.0, 'A_M-Spectral_Class Plot')"
            ]
          },
          "metadata": {},
          "execution_count": 146
        },
        {
          "output_type": "display_data",
          "data": {
            "image/png": "[encoded data removed]",
            "text/plain": [
              "<Figure size 432x288 with 1 Axes>"
            ]
          },
          "metadata": {
            "needs_background": "light"
          }
        }
      ]
    },
    {
      "cell_type": "markdown",
      "metadata": {
        "id": "BLWuI9NJFtUW"
      },
      "source": [
        "## **2. Pre-Processing**"
      ]
    },
    {
      "cell_type": "code",
      "metadata": {
        "id": "3RDzqFRUroyt"
      },
      "source": [
        "# label encoding\n",
        "from sklearn.preprocessing import LabelEncoder\n",
        "\n",
        "le = LabelEncoder()\n",
        "data['Color'] = le.fit_transform(data['Color'])\n",
        "data['Spectral_Class'] = le.fit_transform(data['Spectral_Class'])"
      ],
      "execution_count": 147,
      "outputs": []
    },
    {
      "cell_type": "code",
      "metadata": {
        "colab": {
          "base_uri": "https://localhost:8080/",
          "height": 300
        },
        "id": "a40LOpWLrvp1",
        "outputId": "8b174619-3383-480d-f952-1b47026c5eb2"
      },
      "source": [
        "data.describe()"
      ],
      "execution_count": 148,
      "outputs": [
        {
          "output_type": "execute_result",
          "data": {
            "text/html": [
              "<div>\n",
              "<style scoped>\n",
              "    .dataframe tbody tr th:only-of-type {\n",
              "        vertical-align: middle;\n",
              "    }\n",
              "\n",
              "    .dataframe tbody tr th {\n",
              "        vertical-align: top;\n",
              "    }\n",
              "\n",
              "    .dataframe thead th {\n",
              "        text-align: right;\n",
              "    }\n",
              "</style>\n",
              "<table border=\"1\" class=\"dataframe\">\n",
              "  <thead>\n",
              "    <tr style=\"text-align: right;\">\n",
              "      <th></th>\n",
              "      <th>Temperature</th>\n",
              "      <th>L</th>\n",
              "      <th>R</th>\n",
              "      <th>A_M</th>\n",
              "      <th>Color</th>\n",
              "      <th>Spectral_Class</th>\n",
              "      <th>Type</th>\n",
              "    </tr>\n",
              "  </thead>\n",
              "  <tbody>\n",
              "    <tr>\n",
              "      <th>count</th>\n",
              "      <td>240.000000</td>\n",
              "      <td>240.000000</td>\n",
              "      <td>240.000000</td>\n",
              "      <td>240.000000</td>\n",
              "      <td>240.000000</td>\n",
              "      <td>240.000000</td>\n",
              "      <td>240.000000</td>\n",
              "    </tr>\n",
              "    <tr>\n",
              "      <th>mean</th>\n",
              "      <td>10497.462500</td>\n",
              "      <td>107188.361635</td>\n",
              "      <td>237.157781</td>\n",
              "      <td>4.382396</td>\n",
              "      <td>5.766667</td>\n",
              "      <td>3.758333</td>\n",
              "      <td>2.500000</td>\n",
              "    </tr>\n",
              "    <tr>\n",
              "      <th>std</th>\n",
              "      <td>9552.425037</td>\n",
              "      <td>179432.244940</td>\n",
              "      <td>517.155763</td>\n",
              "      <td>10.532512</td>\n",
              "      <td>4.208446</td>\n",
              "      <td>2.090007</td>\n",
              "      <td>1.711394</td>\n",
              "    </tr>\n",
              "    <tr>\n",
              "      <th>min</th>\n",
              "      <td>1939.000000</td>\n",
              "      <td>0.000080</td>\n",
              "      <td>0.008400</td>\n",
              "      <td>-11.920000</td>\n",
              "      <td>0.000000</td>\n",
              "      <td>0.000000</td>\n",
              "      <td>0.000000</td>\n",
              "    </tr>\n",
              "    <tr>\n",
              "      <th>25%</th>\n",
              "      <td>3344.250000</td>\n",
              "      <td>0.000865</td>\n",
              "      <td>0.102750</td>\n",
              "      <td>-6.232500</td>\n",
              "      <td>1.000000</td>\n",
              "      <td>1.000000</td>\n",
              "      <td>1.000000</td>\n",
              "    </tr>\n",
              "    <tr>\n",
              "      <th>50%</th>\n",
              "      <td>5776.000000</td>\n",
              "      <td>0.070500</td>\n",
              "      <td>0.762500</td>\n",
              "      <td>8.313000</td>\n",
              "      <td>8.000000</td>\n",
              "      <td>5.000000</td>\n",
              "      <td>2.500000</td>\n",
              "    </tr>\n",
              "    <tr>\n",
              "      <th>75%</th>\n",
              "      <td>15055.500000</td>\n",
              "      <td>198050.000000</td>\n",
              "      <td>42.750000</td>\n",
              "      <td>13.697500</td>\n",
              "      <td>8.000000</td>\n",
              "      <td>5.000000</td>\n",
              "      <td>4.000000</td>\n",
              "    </tr>\n",
              "    <tr>\n",
              "      <th>max</th>\n",
              "      <td>40000.000000</td>\n",
              "      <td>849420.000000</td>\n",
              "      <td>1948.500000</td>\n",
              "      <td>20.060000</td>\n",
              "      <td>16.000000</td>\n",
              "      <td>6.000000</td>\n",
              "      <td>5.000000</td>\n",
              "    </tr>\n",
              "  </tbody>\n",
              "</table>\n",
              "</div>"
            ],
            "text/plain": [
              "        Temperature              L  ...  Spectral_Class        Type\n",
              "count    240.000000     240.000000  ...      240.000000  240.000000\n",
              "mean   10497.462500  107188.361635  ...        3.758333    2.500000\n",
              "std     9552.425037  179432.244940  ...        2.090007    1.711394\n",
              "min     1939.000000       0.000080  ...        0.000000    0.000000\n",
              "25%     3344.250000       0.000865  ...        1.000000    1.000000\n",
              "50%     5776.000000       0.070500  ...        5.000000    2.500000\n",
              "75%    15055.500000  198050.000000  ...        5.000000    4.000000\n",
              "max    40000.000000  849420.000000  ...        6.000000    5.000000\n",
              "\n",
              "[8 rows x 7 columns]"
            ]
          },
          "metadata": {},
          "execution_count": 148
        }
      ]
    },
    {
      "cell_type": "code",
      "metadata": {
        "id": "4bh-n3ZIIWAm"
      },
      "source": [
        "# Separate Feature and Target Matrix\n",
        "x = data.drop('Type', axis=1)\n",
        "y = data['Type']"
      ],
      "execution_count": 149,
      "outputs": []
    },
    {
      "cell_type": "code",
      "metadata": {
        "id": "5ONxGF1EIiF5"
      },
      "source": [
        "# Split dataset into training set and test set\n",
        "# 70% training and 30% test\n",
        "x_train, x_test, y_train, y_test = train_test_split(x, y, test_size=0.3, random_state=100)"
      ],
      "execution_count": 150,
      "outputs": []
    },
    {
      "cell_type": "markdown",
      "metadata": {
        "id": "-ZRaJuCgmHm5"
      },
      "source": [
        "## **3. Modelling**"
      ]
    },
    {
      "cell_type": "code",
      "metadata": {
        "id": "l_A9nsm2o0Z8"
      },
      "source": [
        "from sklearn.svm import SVC"
      ],
      "execution_count": 151,
      "outputs": []
    },
    {
      "cell_type": "markdown",
      "metadata": {
        "id": "QBZPtOdNoXrs"
      },
      "source": [
        "### **3.1. Linear Kernel**"
      ]
    },
    {
      "cell_type": "code",
      "metadata": {
        "colab": {
          "base_uri": "https://localhost:8080/"
        },
        "id": "bLc_WaOTm8At",
        "outputId": "9efcd54c-fb4e-4812-df00-f52cbc66625b"
      },
      "source": [
        "svc_linear = SVC(kernel='linear')\n",
        "svc_linear.fit(x_train, y_train)"
      ],
      "execution_count": 152,
      "outputs": [
        {
          "output_type": "execute_result",
          "data": {
            "text/plain": [
              "SVC(C=1.0, break_ties=False, cache_size=200, class_weight=None, coef0=0.0,\n",
              "    decision_function_shape='ovr', degree=3, gamma='scale', kernel='linear',\n",
              "    max_iter=-1, probability=False, random_state=None, shrinking=True,\n",
              "    tol=0.001, verbose=False)"
            ]
          },
          "metadata": {},
          "execution_count": 152
        }
      ]
    },
    {
      "cell_type": "code",
      "metadata": {
        "colab": {
          "base_uri": "https://localhost:8080/"
        },
        "id": "ustWEUlNndQO",
        "outputId": "5683d18f-7578-4dab-96fe-2f934847a022"
      },
      "source": [
        "y_pred_linear = svc_linear.predict(x_test)\n",
        "y_pred_linear"
      ],
      "execution_count": 153,
      "outputs": [
        {
          "output_type": "execute_result",
          "data": {
            "text/plain": [
              "array([5, 2, 2, 1, 2, 4, 2, 4, 2, 0, 3, 0, 5, 5, 1, 3, 0, 4, 5, 5, 2, 2,\n",
              "       0, 2, 3, 1, 4, 0, 0, 0, 1, 3, 2, 3, 4, 2, 2, 1, 1, 0, 0, 4, 3, 3,\n",
              "       1, 3, 5, 2, 4, 0, 4, 2, 4, 3, 2, 5, 2, 5, 3, 1, 0, 1, 1, 5, 1, 2,\n",
              "       4, 5, 1, 3, 5, 4])"
            ]
          },
          "metadata": {},
          "execution_count": 153
        }
      ]
    },
    {
      "cell_type": "markdown",
      "metadata": {
        "id": "M_vO6CqbofDB"
      },
      "source": [
        "### **3.2. Polynomial Kernel**"
      ]
    },
    {
      "cell_type": "code",
      "metadata": {
        "colab": {
          "base_uri": "https://localhost:8080/"
        },
        "id": "UzciYotsofHu",
        "outputId": "87815b38-348d-433f-abff-4e5321c26b93"
      },
      "source": [
        "svc_poly = SVC(kernel='poly', degree=8)\n",
        "svc_poly.fit(x_train, y_train)"
      ],
      "execution_count": 154,
      "outputs": [
        {
          "output_type": "execute_result",
          "data": {
            "text/plain": [
              "SVC(C=1.0, break_ties=False, cache_size=200, class_weight=None, coef0=0.0,\n",
              "    decision_function_shape='ovr', degree=8, gamma='scale', kernel='poly',\n",
              "    max_iter=-1, probability=False, random_state=None, shrinking=True,\n",
              "    tol=0.001, verbose=False)"
            ]
          },
          "metadata": {},
          "execution_count": 154
        }
      ]
    },
    {
      "cell_type": "code",
      "metadata": {
        "colab": {
          "base_uri": "https://localhost:8080/"
        },
        "id": "hvP5rmTcpjd2",
        "outputId": "49771ce4-ae83-4407-8a3a-adea65c17512"
      },
      "source": [
        "y_pred_poly = svc_poly.predict(x_test)\n",
        "y_pred_poly"
      ],
      "execution_count": 155,
      "outputs": [
        {
          "output_type": "execute_result",
          "data": {
            "text/plain": [
              "array([0, 0, 0, 0, 0, 4, 0, 4, 0, 0, 0, 0, 4, 0, 0, 0, 0, 0, 5, 0, 0, 0,\n",
              "       0, 0, 0, 0, 4, 0, 0, 0, 0, 0, 0, 0, 4, 0, 0, 0, 0, 0, 0, 4, 0, 0,\n",
              "       0, 0, 3, 0, 0, 0, 4, 0, 0, 0, 0, 4, 0, 4, 0, 0, 0, 0, 0, 4, 0, 0,\n",
              "       0, 3, 0, 0, 5, 4])"
            ]
          },
          "metadata": {},
          "execution_count": 155
        }
      ]
    },
    {
      "cell_type": "markdown",
      "metadata": {
        "id": "0OP-1PBuofVq"
      },
      "source": [
        "### **Gaussian Kernel**"
      ]
    },
    {
      "cell_type": "code",
      "metadata": {
        "colab": {
          "base_uri": "https://localhost:8080/"
        },
        "id": "FGqSzJrHofZq",
        "outputId": "c02b6503-3e34-4873-bdf3-ab1fc63ccdf8"
      },
      "source": [
        "svc_gauss = SVC(kernel='rbf')\n",
        "svc_gauss.fit(x_train, y_train)"
      ],
      "execution_count": 156,
      "outputs": [
        {
          "output_type": "execute_result",
          "data": {
            "text/plain": [
              "SVC(C=1.0, break_ties=False, cache_size=200, class_weight=None, coef0=0.0,\n",
              "    decision_function_shape='ovr', degree=3, gamma='scale', kernel='rbf',\n",
              "    max_iter=-1, probability=False, random_state=None, shrinking=True,\n",
              "    tol=0.001, verbose=False)"
            ]
          },
          "metadata": {},
          "execution_count": 156
        }
      ]
    },
    {
      "cell_type": "code",
      "metadata": {
        "colab": {
          "base_uri": "https://localhost:8080/"
        },
        "id": "PML_ljidqkGg",
        "outputId": "ad942b51-b0f2-455a-b337-066481eaf621"
      },
      "source": [
        "y_pred_gauss = svc_gauss.predict(x_test)\n",
        "y_pred_gauss"
      ],
      "execution_count": 157,
      "outputs": [
        {
          "output_type": "execute_result",
          "data": {
            "text/plain": [
              "array([5, 0, 0, 0, 0, 4, 0, 4, 0, 0, 0, 0, 4, 4, 0, 0, 0, 5, 4, 5, 0, 0,\n",
              "       0, 0, 0, 0, 5, 0, 0, 0, 0, 0, 0, 0, 4, 0, 0, 0, 0, 0, 0, 4, 0, 0,\n",
              "       0, 0, 4, 0, 4, 0, 5, 0, 4, 0, 0, 4, 0, 4, 0, 0, 0, 0, 0, 5, 0, 0,\n",
              "       5, 4, 0, 0, 5, 4])"
            ]
          },
          "metadata": {},
          "execution_count": 157
        }
      ]
    },
    {
      "cell_type": "markdown",
      "metadata": {
        "id": "yAjWHaKAorOs"
      },
      "source": [
        "### **3.3. Sigmoid Kernel**"
      ]
    },
    {
      "cell_type": "code",
      "metadata": {
        "colab": {
          "base_uri": "https://localhost:8080/"
        },
        "id": "9n_PankdorTv",
        "outputId": "238210a2-0a54-42e0-8124-c70e3e6e90ee"
      },
      "source": [
        "svc_sigmoid = SVC(kernel='sigmoid')\n",
        "svc_sigmoid.fit(x_train, y_train)"
      ],
      "execution_count": 158,
      "outputs": [
        {
          "output_type": "execute_result",
          "data": {
            "text/plain": [
              "SVC(C=1.0, break_ties=False, cache_size=200, class_weight=None, coef0=0.0,\n",
              "    decision_function_shape='ovr', degree=3, gamma='scale', kernel='sigmoid',\n",
              "    max_iter=-1, probability=False, random_state=None, shrinking=True,\n",
              "    tol=0.001, verbose=False)"
            ]
          },
          "metadata": {},
          "execution_count": 158
        }
      ]
    },
    {
      "cell_type": "code",
      "metadata": {
        "colab": {
          "base_uri": "https://localhost:8080/"
        },
        "id": "z8d1OkToqzvr",
        "outputId": "6e164cb0-d132-4d24-cc11-512c617c24d2"
      },
      "source": [
        "y_pred_sigmoid = svc_sigmoid.predict(x_test)\n",
        "y_pred_sigmoid"
      ],
      "execution_count": 159,
      "outputs": [
        {
          "output_type": "execute_result",
          "data": {
            "text/plain": [
              "array([4, 0, 0, 0, 0, 5, 0, 4, 0, 0, 0, 0, 4, 4, 0, 0, 0, 4, 5, 4, 0, 0,\n",
              "       0, 0, 0, 0, 5, 0, 0, 0, 0, 0, 0, 0, 4, 0, 0, 0, 0, 0, 0, 4, 0, 0,\n",
              "       0, 0, 4, 0, 4, 0, 5, 0, 4, 0, 0, 4, 0, 4, 0, 0, 0, 0, 0, 5, 0, 0,\n",
              "       4, 4, 0, 0, 5, 5])"
            ]
          },
          "metadata": {},
          "execution_count": 159
        }
      ]
    },
    {
      "cell_type": "markdown",
      "metadata": {
        "id": "P6gftGGvnsCY"
      },
      "source": [
        "## **4. Model Evaluation**"
      ]
    },
    {
      "cell_type": "code",
      "metadata": {
        "id": "HBVjmCtbpBiN"
      },
      "source": [
        "from sklearn.metrics import classification_report as cr, confusion_matrix as cm"
      ],
      "execution_count": 160,
      "outputs": []
    },
    {
      "cell_type": "markdown",
      "metadata": {
        "id": "4r3-N9IYpBnT"
      },
      "source": [
        "### **4.1. Linear Kernel**"
      ]
    },
    {
      "cell_type": "code",
      "metadata": {
        "colab": {
          "base_uri": "https://localhost:8080/"
        },
        "id": "gUHTbk-dno5_",
        "outputId": "69ac3b48-0e62-4d16-d1c1-73b5dc624f97"
      },
      "source": [
        "print(cm(y_test, y_pred_linear))\n",
        "print(cr(y_test, y_pred_linear))"
      ],
      "execution_count": 161,
      "outputs": [
        {
          "output_type": "stream",
          "name": "stdout",
          "text": [
            "[[11  0  0  0  0  0]\n",
            " [ 0 12  0  0  0  0]\n",
            " [ 0  0 16  0  0  0]\n",
            " [ 0  0  0 11  0  0]\n",
            " [ 0  0  0  0 11  0]\n",
            " [ 0  0  0  0  0 11]]\n",
            "              precision    recall  f1-score   support\n",
            "\n",
            "           0       1.00      1.00      1.00        11\n",
            "           1       1.00      1.00      1.00        12\n",
            "           2       1.00      1.00      1.00        16\n",
            "           3       1.00      1.00      1.00        11\n",
            "           4       1.00      1.00      1.00        11\n",
            "           5       1.00      1.00      1.00        11\n",
            "\n",
            "    accuracy                           1.00        72\n",
            "   macro avg       1.00      1.00      1.00        72\n",
            "weighted avg       1.00      1.00      1.00        72\n",
            "\n"
          ]
        }
      ]
    },
    {
      "cell_type": "markdown",
      "metadata": {
        "id": "PTPg0NqtpPGQ"
      },
      "source": [
        "### **4.2. Polynomial Kernel**"
      ]
    },
    {
      "cell_type": "code",
      "metadata": {
        "colab": {
          "base_uri": "https://localhost:8080/"
        },
        "id": "Mgx2q1oFpPGS",
        "outputId": "573c2e89-c9b5-42f1-917d-c02bb144db2c"
      },
      "source": [
        "print(cm(y_test, y_pred_poly))\n",
        "print(cr(y_test, y_pred_poly))"
      ],
      "execution_count": 162,
      "outputs": [
        {
          "output_type": "stream",
          "name": "stdout",
          "text": [
            "[[11  0  0  0  0  0]\n",
            " [12  0  0  0  0  0]\n",
            " [16  0  0  0  0  0]\n",
            " [11  0  0  0  0  0]\n",
            " [ 4  0  0  0  7  0]\n",
            " [ 3  0  0  2  4  2]]\n",
            "              precision    recall  f1-score   support\n",
            "\n",
            "           0       0.19      1.00      0.32        11\n",
            "           1       0.00      0.00      0.00        12\n",
            "           2       0.00      0.00      0.00        16\n",
            "           3       0.00      0.00      0.00        11\n",
            "           4       0.64      0.64      0.64        11\n",
            "           5       1.00      0.18      0.31        11\n",
            "\n",
            "    accuracy                           0.28        72\n",
            "   macro avg       0.30      0.30      0.21        72\n",
            "weighted avg       0.28      0.28      0.19        72\n",
            "\n"
          ]
        },
        {
          "output_type": "stream",
          "name": "stderr",
          "text": [
            "/usr/local/lib/python3.7/dist-packages/sklearn/metrics/_classification.py:1272: UndefinedMetricWarning: Precision and F-score are ill-defined and being set to 0.0 in labels with no predicted samples. Use `zero_division` parameter to control this behavior.\n",
            "  _warn_prf(average, modifier, msg_start, len(result))\n"
          ]
        }
      ]
    },
    {
      "cell_type": "markdown",
      "metadata": {
        "id": "kRmDE7QBpPUS"
      },
      "source": [
        "### **4.3. Gaussian Kernel**"
      ]
    },
    {
      "cell_type": "code",
      "metadata": {
        "colab": {
          "base_uri": "https://localhost:8080/"
        },
        "id": "QC3ShFzRpPUU",
        "outputId": "8f07e0c1-d499-4f37-e432-35eb675e7685"
      },
      "source": [
        "print(cm(y_test, y_pred_gauss))\n",
        "print(cr(y_test, y_pred_gauss))"
      ],
      "execution_count": 163,
      "outputs": [
        {
          "output_type": "stream",
          "name": "stdout",
          "text": [
            "[[11  0  0  0  0  0]\n",
            " [12  0  0  0  0  0]\n",
            " [16  0  0  0  0  0]\n",
            " [11  0  0  0  0  0]\n",
            " [ 0  0  0  0  7  4]\n",
            " [ 0  0  0  0  7  4]]\n",
            "              precision    recall  f1-score   support\n",
            "\n",
            "           0       0.22      1.00      0.36        11\n",
            "           1       0.00      0.00      0.00        12\n",
            "           2       0.00      0.00      0.00        16\n",
            "           3       0.00      0.00      0.00        11\n",
            "           4       0.50      0.64      0.56        11\n",
            "           5       0.50      0.36      0.42        11\n",
            "\n",
            "    accuracy                           0.31        72\n",
            "   macro avg       0.20      0.33      0.22        72\n",
            "weighted avg       0.19      0.31      0.20        72\n",
            "\n"
          ]
        },
        {
          "output_type": "stream",
          "name": "stderr",
          "text": [
            "/usr/local/lib/python3.7/dist-packages/sklearn/metrics/_classification.py:1272: UndefinedMetricWarning: Precision and F-score are ill-defined and being set to 0.0 in labels with no predicted samples. Use `zero_division` parameter to control this behavior.\n",
            "  _warn_prf(average, modifier, msg_start, len(result))\n"
          ]
        }
      ]
    },
    {
      "cell_type": "markdown",
      "metadata": {
        "id": "cjXR-Ya_pPbA"
      },
      "source": [
        "### **4.4. Sigmoid Kernel**"
      ]
    },
    {
      "cell_type": "code",
      "metadata": {
        "colab": {
          "base_uri": "https://localhost:8080/"
        },
        "id": "W1y2o77CpPbC",
        "outputId": "b59440c3-54c5-4b9b-8e18-621703e1b775"
      },
      "source": [
        "print(cm(y_test, y_pred_sigmoid))\n",
        "print(cr(y_test, y_pred_sigmoid))"
      ],
      "execution_count": 164,
      "outputs": [
        {
          "output_type": "stream",
          "name": "stdout",
          "text": [
            "[[11  0  0  0  0  0]\n",
            " [12  0  0  0  0  0]\n",
            " [16  0  0  0  0  0]\n",
            " [11  0  0  0  0  0]\n",
            " [ 0  0  0  0  7  4]\n",
            " [ 0  0  0  0  8  3]]\n",
            "              precision    recall  f1-score   support\n",
            "\n",
            "           0       0.22      1.00      0.36        11\n",
            "           1       0.00      0.00      0.00        12\n",
            "           2       0.00      0.00      0.00        16\n",
            "           3       0.00      0.00      0.00        11\n",
            "           4       0.47      0.64      0.54        11\n",
            "           5       0.43      0.27      0.33        11\n",
            "\n",
            "    accuracy                           0.29        72\n",
            "   macro avg       0.19      0.32      0.21        72\n",
            "weighted avg       0.17      0.29      0.19        72\n",
            "\n"
          ]
        },
        {
          "output_type": "stream",
          "name": "stderr",
          "text": [
            "/usr/local/lib/python3.7/dist-packages/sklearn/metrics/_classification.py:1272: UndefinedMetricWarning: Precision and F-score are ill-defined and being set to 0.0 in labels with no predicted samples. Use `zero_division` parameter to control this behavior.\n",
            "  _warn_prf(average, modifier, msg_start, len(result))\n"
          ]
        }
      ]
    }
  ]
}